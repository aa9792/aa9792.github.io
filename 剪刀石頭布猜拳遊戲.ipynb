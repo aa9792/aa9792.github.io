{
  "nbformat": 4,
  "nbformat_minor": 0,
  "metadata": {
    "colab": {
      "provenance": [],
      "include_colab_link": true
    },
    "kernelspec": {
      "name": "python3",
      "display_name": "Python 3"
    },
    "language_info": {
      "name": "python"
    }
  },
  "cells": [
    {
      "cell_type": "markdown",
      "metadata": {
        "id": "view-in-github",
        "colab_type": "text"
      },
      "source": [
        "<a href=\"https://colab.research.google.com/github/aa9792/aa9792.github.io/blob/main/%E5%89%AA%E5%88%80%E7%9F%B3%E9%A0%AD%E5%B8%83%E7%8C%9C%E6%8B%B3%E9%81%8A%E6%88%B2.ipynb\" target=\"_parent\"><img src=\"https://colab.research.google.com/assets/colab-badge.svg\" alt=\"Open In Colab\"/></a>"
      ]
    },
    {
      "cell_type": "code",
      "execution_count": null,
      "metadata": {
        "colab": {
          "base_uri": "https://localhost:8080/"
        },
        "id": "AA_uFbrVeZtg",
        "outputId": "c779fda5-a004-4681-c837-068fe061ed4e"
      },
      "outputs": [
        {
          "output_type": "stream",
          "name": "stdout",
          "text": [
            "剪刀石头布猜拳游戏\n",
            "1. 剪刀\n",
            "2. 石头\n",
            "3. 布\n",
            "请输入您的选择 (1/2/3): 1\n",
            "您的选择: 剪刀\n",
            "系统的选择: 剪刀\n",
            "平局！\n",
            "您的分数: 0\n",
            "是否继续游戏？(yes/no): yes\n",
            "剪刀石头布猜拳游戏\n",
            "1. 剪刀\n",
            "2. 石头\n",
            "3. 布\n",
            "请输入您的选择 (1/2/3): 2\n",
            "您的选择: 石头\n",
            "系统的选择: 布\n",
            "系统赢了！\n",
            "您的分数: -50\n",
            "是否继续游戏？(yes/no): no\n",
            "游戏结束。感谢您的参与！\n"
          ]
        }
      ],
      "source": [
        "import random\n",
        "\n",
        "# 初始化用户和系统的分数\n",
        "user_score = 0\n",
        "system_score = 0\n",
        "\n",
        "while True:\n",
        "    # 1. 用户出拳\n",
        "    print(\"剪刀石头布猜拳游戏\")\n",
        "    print(\"1. 剪刀\")\n",
        "    print(\"2. 石头\")\n",
        "    print(\"3. 布\")\n",
        "    user_choice = int(input(\"请输入您的选择 (1/2/3): \"))\n",
        "\n",
        "    # 2. 系统随机出拳\n",
        "    system_choice = random.randint(1, 3)\n",
        "\n",
        "    # 打印用户和系统的选择\n",
        "    choices = [\"剪刀\", \"石头\", \"布\"]\n",
        "    print(f\"您的选择: {choices[user_choice - 1]}\")\n",
        "    print(f\"系统的选择: {choices[system_choice - 1]}\")\n",
        "\n",
        "    # 3. 判断胜负并更新分数\n",
        "    if (user_choice == 1 and system_choice == 3) or (user_choice == 2 and system_choice == 1) or (user_choice == 3 and system_choice == 2):\n",
        "        print(\"恭喜您赢了！\")\n",
        "        user_score += 100\n",
        "    elif user_choice == system_choice:\n",
        "        print(\"平局！\")\n",
        "    else:\n",
        "        print(\"系统赢了！\")\n",
        "        user_score -= 50\n",
        "\n",
        "    # 打印当前分数\n",
        "    print(f\"您的分数: {user_score}\")\n",
        "\n",
        "    # 询问用户是否继续游戏\n",
        "    play_again = input(\"是否继续游戏？(yes/no): \")\n",
        "    if play_again.lower() != \"yes\":\n",
        "        break\n",
        "\n",
        "print(\"游戏结束。感谢您的参与！\")\n"
      ]
    }
  ]
}